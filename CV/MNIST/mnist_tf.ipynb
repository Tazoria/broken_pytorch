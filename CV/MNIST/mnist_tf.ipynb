{
 "cells": [
  {
   "cell_type": "markdown",
   "source": [
    "# 텐서플로 2.0 시작하기: 초보자용\n",
    "- 출처: https://www.tensorflow.org/tutorials/quickstart/beginner?hl=ko"
   ],
   "metadata": {
    "collapsed": false
   }
  },
  {
   "cell_type": "markdown",
   "source": [
    "# 데이터 세트 로드"
   ],
   "metadata": {
    "collapsed": false
   }
  },
  {
   "cell_type": "code",
   "execution_count": 20,
   "metadata": {
    "collapsed": true,
    "ExecuteTime": {
     "end_time": "2023-08-31T08:13:00.935411200Z",
     "start_time": "2023-08-31T08:13:00.476590500Z"
    }
   },
   "outputs": [
    {
     "name": "stdout",
     "output_type": "stream",
     "text": [
      "train >  (60000, 60000)\n",
      "test >  (10000, 10000)\n"
     ]
    }
   ],
   "source": [
    "import tensorflow as tf\n",
    "import numpy as np\n",
    "\n",
    "mnist = tf.keras.datasets.mnist\n",
    "(x_train, y_train), (x_test, y_test) = mnist.load_data()\n",
    "print('train > ', (x_train.shape[0], y_train.shape[0]))\n",
    "print('test > ', (x_test.shape[0], y_test.shape[0]))\n",
    "\n",
    "x_train, X_test = x_train / 255.0, x_test / 255.0"
   ]
  },
  {
   "cell_type": "markdown",
   "source": [
    "# 머신 러닝 모델 빌드"
   ],
   "metadata": {
    "collapsed": false
   }
  },
  {
   "cell_type": "code",
   "execution_count": 22,
   "outputs": [],
   "source": [
    "model = tf.keras.models.Sequential([\n",
    "    tf.keras.layers.Flatten(input_shape=(28,28)),\n",
    "    tf.keras.layers.Dense(128, activation='relu'),\n",
    "    tf.keras.layers.Dropout(0.2),\n",
    "    tf.keras.layers.Dense(10, activation='softmax')\n",
    "])"
   ],
   "metadata": {
    "collapsed": false,
    "ExecuteTime": {
     "end_time": "2023-08-31T08:15:31.294366800Z",
     "start_time": "2023-08-31T08:15:31.239793800Z"
    }
   }
  },
  {
   "cell_type": "code",
   "execution_count": 23,
   "outputs": [
    {
     "data": {
      "text/plain": "array([[0.05409364, 0.07133018, 0.05541972, 0.07668146, 0.05660934,\n        0.15115348, 0.20057938, 0.0251054 , 0.13670664, 0.17232084]],\n      dtype=float32)"
     },
     "execution_count": 23,
     "metadata": {},
     "output_type": "execute_result"
    }
   ],
   "source": [
    "# 모델은 각 클래스에 대해 하나씩 logits 또는 log-odds스코어 벡터를 반환\n",
    "predictions = model(x_train[:1]).numpy()\n",
    "predictions"
   ],
   "metadata": {
    "collapsed": false,
    "ExecuteTime": {
     "end_time": "2023-08-31T08:16:19.483877500Z",
     "start_time": "2023-08-31T08:16:19.436617700Z"
    }
   }
  },
  {
   "cell_type": "code",
   "execution_count": 26,
   "outputs": [
    {
     "data": {
      "text/plain": "array([[0.09535788, 0.09701577, 0.09548441, 0.09753631, 0.09559807,\n        0.10507734, 0.11040138, 0.0926333 , 0.10357023, 0.10732526]],\n      dtype=float32)"
     },
     "execution_count": 26,
     "metadata": {},
     "output_type": "execute_result"
    }
   ],
   "source": [
    "# tf.nn.softmax() : 로짓을 각 클래스에 대한 확률로 변환\n",
    "# 맨 마지막 레이어의 활성화함수로 사용이 가능하나 모델에 대한 정확한, 수치적으로 안정적인 손실계산을 하는게 불가능하므로 권장하지 않음\n",
    "tf.nn.softmax(predictions).numpy()"
   ],
   "metadata": {
    "collapsed": false,
    "ExecuteTime": {
     "end_time": "2023-08-31T08:24:40.021151900Z",
     "start_time": "2023-08-31T08:24:39.974290200Z"
    }
   }
  },
  {
   "cell_type": "code",
   "execution_count": 27,
   "outputs": [
    {
     "data": {
      "text/plain": "2.2530584"
     },
     "execution_count": 27,
     "metadata": {},
     "output_type": "execute_result"
    }
   ],
   "source": [
    "'''\n",
    "[ Sparse Categorical Crossentropy ]\n",
    "- label이 정수형을 띄고 있는 경우 사용\n",
    "- 실제 클래스의 음의 로그확률 => 모델이 올바른 클래스를 확신하는 경우 손실은 0\n",
    "- 훈련되지 않은 모델은 각 클래스에 대한 확률이 무작위에 가까운 확률이 나오므로(약 0.1) 초기 손실은 -tf.math.log(1/10  ~= 2.3에 근접해야 함\n",
    "'''\n",
    "loss_fn = tf.keras.losses.SparseCategoricalCrossentropy(from_logits=True)\n",
    "loss_fn(y_train[:1], predictions).numpy()"
   ],
   "metadata": {
    "collapsed": false,
    "ExecuteTime": {
     "end_time": "2023-08-31T08:34:18.085493800Z",
     "start_time": "2023-08-31T08:34:18.023009900Z"
    }
   }
  },
  {
   "cell_type": "code",
   "execution_count": 28,
   "outputs": [],
   "source": [
    "# 모델을 구성하고 컴파일\n",
    "# optimizer 클래스, loss 함수, metrics 매개변수(평가 metric)\n",
    "model.compile(optimizer='adam', loss='sparse_categorical_crossentropy', metrics=['accuracy'])"
   ],
   "metadata": {
    "collapsed": false,
    "ExecuteTime": {
     "end_time": "2023-08-31T08:44:23.915991700Z",
     "start_time": "2023-08-31T08:44:23.900372700Z"
    }
   }
  },
  {
   "cell_type": "markdown",
   "source": [
    "# 3. 모델 훈련 및 평가"
   ],
   "metadata": {
    "collapsed": false
   }
  },
  {
   "cell_type": "code",
   "execution_count": 30,
   "outputs": [
    {
     "name": "stdout",
     "output_type": "stream",
     "text": [
      "Epoch 1/5\n",
      "1875/1875 [==============================] - 8s 4ms/step - loss: 0.1547 - accuracy: 0.9537\n",
      "Epoch 2/5\n",
      "1875/1875 [==============================] - 9s 5ms/step - loss: 0.1135 - accuracy: 0.9657\n",
      "Epoch 3/5\n",
      "1875/1875 [==============================] - 8s 4ms/step - loss: 0.0916 - accuracy: 0.9720\n",
      "Epoch 4/5\n",
      "1875/1875 [==============================] - 8s 4ms/step - loss: 0.0772 - accuracy: 0.9755\n",
      "Epoch 5/5\n",
      "1875/1875 [==============================] - 8s 4ms/step - loss: 0.0681 - accuracy: 0.9787\n",
      "313/313 - 1s - loss: 11.7252 - accuracy: 0.9779 - 1s/epoch - 4ms/step\n"
     ]
    },
    {
     "data": {
      "text/plain": "[11.725152969360352, 0.9779000282287598]"
     },
     "execution_count": 30,
     "metadata": {},
     "output_type": "execute_result"
    }
   ],
   "source": [
    "# 모델 훈련\n",
    "model.fit(x_train, y_train, epochs=5)\n",
    "\n",
    "# Validation-set / Test-set에서 모델성능을 확인\n",
    "model.evaluate(x_test, y_test, verbose=2)"
   ],
   "metadata": {
    "collapsed": false,
    "ExecuteTime": {
     "end_time": "2023-08-31T09:02:05.324851900Z",
     "start_time": "2023-08-31T09:01:22.676965500Z"
    }
   }
  }
 ],
 "metadata": {
  "kernelspec": {
   "display_name": "Python 3",
   "language": "python",
   "name": "python3"
  },
  "language_info": {
   "codemirror_mode": {
    "name": "ipython",
    "version": 2
   },
   "file_extension": ".py",
   "mimetype": "text/x-python",
   "name": "python",
   "nbconvert_exporter": "python",
   "pygments_lexer": "ipython2",
   "version": "2.7.6"
  }
 },
 "nbformat": 4,
 "nbformat_minor": 0
}
