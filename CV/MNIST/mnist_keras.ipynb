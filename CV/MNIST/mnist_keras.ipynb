{
 "cells": [
  {
   "cell_type": "markdown",
   "source": [
    "# 전문가를 위한 Tensorflow 2 빠른 시작\n",
    "- 출처: https://www.tensorflow.org/tutorials/quickstart/advanced?hl=ko"
   ],
   "metadata": {
    "collapsed": false
   }
  },
  {
   "cell_type": "code",
   "execution_count": 1,
   "metadata": {
    "collapsed": true,
    "ExecuteTime": {
     "end_time": "2023-08-31T10:39:46.283767300Z",
     "start_time": "2023-08-31T10:39:42.591264500Z"
    }
   },
   "outputs": [
    {
     "name": "stdout",
     "output_type": "stream",
     "text": [
      "Tensorflow version:  2.8.0\n"
     ]
    }
   ],
   "source": [
    "import tensorflow as tf\n",
    "print('Tensorflow version: ', tf.__version__)\n",
    "\n",
    "import tensorflow as tf\n",
    "from tensorflow.keras.layers import Dense, Flatten, Conv2D\n",
    "from tensorflow.keras import Model"
   ]
  },
  {
   "cell_type": "code",
   "execution_count": 2,
   "outputs": [],
   "source": [
    "mnist = tf.keras.datasets.mnist\n",
    "\n",
    "(x_train, y_train), (x_test, y_test) = mnist.load_data()\n",
    "x_train, x_test, = x_train / 255.0, x_test / 255.0\n",
    "\n",
    "'''\n",
    "[ 차원 추가 ]\n",
    "- numpy: np.expand_dims(증가대상, 차원)\n",
    "    차원 = -1 시에 맨 뒷부분에 차원추가\n",
    "- tensorflow\n",
    "    - expand_dims(증가대상, 차원)\n",
    "    - 증가대상[..., tf.newaxis] => 추가하고 싶은 위치에 tf.newaxis 넣어줘야함\n",
    "- .reshape()\n",
    "[ 차원 축소 ]\n",
    "numpy: np.squeeze(축소대상)\n",
    "  예) np.squeeze(train[0])\n",
    "'''\n",
    "# 채널을 위한 차원 추가\n",
    "x_train = x_train[..., tf.newaxis].astype('float32')\n",
    "x_test = x_test[..., tf.newaxis].astype('float32')"
   ],
   "metadata": {
    "collapsed": false,
    "ExecuteTime": {
     "end_time": "2023-08-31T10:39:46.800725200Z",
     "start_time": "2023-08-31T10:39:46.283767300Z"
    }
   }
  },
  {
   "cell_type": "code",
   "execution_count": 3,
   "outputs": [],
   "source": [
    "# tf.data를 사용해 데이터셋을 섞고 배치 만들기\n",
    "train_ds = tf.data.Dataset.from_tensor_slices(\n",
    "    (x_train, y_train)).shuffle(10000).batch(32)\n",
    "\n",
    "test_ds = tf.data.Dataset.from_tensor_slices(\n",
    "    (x_test, y_test)).shuffle(10000).batch(32)"
   ],
   "metadata": {
    "collapsed": false,
    "ExecuteTime": {
     "end_time": "2023-08-31T10:39:47.618847200Z",
     "start_time": "2023-08-31T10:39:46.800725200Z"
    }
   }
  },
  {
   "cell_type": "code",
   "execution_count": 4,
   "outputs": [],
   "source": [
    "class MyModel(Model):\n",
    "    def __init__(self):\n",
    "        super(MyModel, self).__init__()\n",
    "        self.conv1 = Conv2D(32, 3, activation='relu')\n",
    "        self.flatten = Flatten()\n",
    "        self.d1 = Dense(128, activation='relu')\n",
    "        self.d2 = Dense(10)\n",
    "\n",
    "    def __call__(self, x, training=False):\n",
    "        x = self.conv1(x)\n",
    "        x = self.flatten(x)\n",
    "        x = self.d1(x)\n",
    "        return self.d2(x)\n",
    "\n",
    "# 모델 인스턴스 만들기\n",
    "model = MyModel()"
   ],
   "metadata": {
    "collapsed": false,
    "ExecuteTime": {
     "end_time": "2023-08-31T10:39:47.650090700Z",
     "start_time": "2023-08-31T10:39:47.618847200Z"
    }
   }
  },
  {
   "cell_type": "code",
   "execution_count": 5,
   "outputs": [],
   "source": [
    "loss_object = tf.keras.losses.SparseCategoricalCrossentropy(from_logits=True)\n",
    "optimizer = tf.keras.optimizers.Adam()"
   ],
   "metadata": {
    "collapsed": false,
    "ExecuteTime": {
     "end_time": "2023-08-31T10:39:47.665711800Z",
     "start_time": "2023-08-31T10:39:47.650090700Z"
    }
   }
  },
  {
   "cell_type": "code",
   "execution_count": 6,
   "outputs": [],
   "source": [
    "train_loss = tf.keras.metrics.Mean(name='train_loss')\n",
    "train_accuracy = tf.keras.metrics.SparseCategoricalAccuracy(name='train_accuracy')\n",
    "\n",
    "test_loss = tf.keras.metrics.Mean(name='test_loss')\n",
    "test_accuracy = tf.keras.metrics.SparseCategoricalAccuracy(name='test_accuracy')"
   ],
   "metadata": {
    "collapsed": false,
    "ExecuteTime": {
     "end_time": "2023-08-31T10:39:47.696955Z",
     "start_time": "2023-08-31T10:39:47.665711800Z"
    }
   }
  },
  {
   "cell_type": "code",
   "execution_count": 7,
   "outputs": [],
   "source": [
    "# 모델 훈련\n",
    "@tf.function\n",
    "def train_step(images, labels):\n",
    "    with tf.GradientTape() as tape:\n",
    "        # training=True는 추론과 학습과정에서 dropout같이 다른 동작이 필요한 레이어가 있는경우에만 필요\n",
    "        predictions = model(images, training=True)\n",
    "        loss = loss_object(labels, predictions)\n",
    "    gradients = tape.gradient(loss, model.trainable_variables)\n",
    "    optimizer.apply_gradients(zip(gradients, model.trainable_variables))\n",
    "\n",
    "    train_loss(loss)\n",
    "    train_accuracy(labels, predictions)"
   ],
   "metadata": {
    "collapsed": false,
    "ExecuteTime": {
     "end_time": "2023-08-31T10:39:47.712576200Z",
     "start_time": "2023-08-31T10:39:47.696955Z"
    }
   }
  },
  {
   "cell_type": "code",
   "execution_count": 8,
   "outputs": [],
   "source": [
    "# 모델 테스트\n",
    "@tf.function\n",
    "def test_step(images, labels):\n",
    "    predictions = model(images, training=False)\n",
    "    t_loss = loss_object(labels, predictions)\n",
    "\n",
    "    test_loss(t_loss)\n",
    "    test_accuracy(labels, predictions)"
   ],
   "metadata": {
    "collapsed": false,
    "ExecuteTime": {
     "end_time": "2023-08-31T10:39:47.728197800Z",
     "start_time": "2023-08-31T10:39:47.712576200Z"
    }
   }
  },
  {
   "cell_type": "code",
   "execution_count": 11,
   "outputs": [
    {
     "name": "stdout",
     "output_type": "stream",
     "text": [
      "Epoch 1, Loss 0.006387131754308939, Accuracy: 99.81333923339844, Test Loss 0.06557603180408478, Test Accuracy 98.48999786376953\n",
      "Epoch 2, Loss 0.0049150618724524975, Accuracy: 99.83833312988281, Test Loss 0.06378890573978424, Test Accuracy 98.69999694824219\n",
      "Epoch 3, Loss 0.0033905075397342443, Accuracy: 99.88166809082031, Test Loss 0.08577615767717361, Test Accuracy 98.23999786376953\n",
      "Epoch 4, Loss 0.005529162939637899, Accuracy: 99.82333374023438, Test Loss 0.08494763821363449, Test Accuracy 98.43000030517578\n",
      "Epoch 5, Loss 0.004237568937242031, Accuracy: 99.86666107177734, Test Loss 0.07123908400535583, Test Accuracy 98.56999969482422\n"
     ]
    }
   ],
   "source": [
    "EPOCHS = 5\n",
    "\n",
    "for epoch in range(EPOCHS):\n",
    "    # 다음 에폭 시작 때 metrics 초기화\n",
    "    train_loss.reset_states()\n",
    "    train_accuracy.reset_states()\n",
    "    test_loss.reset_states()\n",
    "    test_accuracy.reset_states()\n",
    "\n",
    "    for images, labels in train_ds:\n",
    "        train_step(images, labels)\n",
    "\n",
    "    for test_images, test_labels in test_ds:\n",
    "        test_step(test_images, test_labels)\n",
    "\n",
    "    print(\n",
    "        f'Epoch {epoch+1}, '\n",
    "        f'Loss {train_loss.result()}, '\n",
    "        f'Accuracy: {train_accuracy.result()*100}, '\n",
    "        f'Test Loss {test_loss.result()}, '\n",
    "        f'Test Accuracy {test_accuracy.result()*100}'\n",
    "    )"
   ],
   "metadata": {
    "collapsed": false,
    "ExecuteTime": {
     "end_time": "2023-08-31T10:41:41.439055800Z",
     "start_time": "2023-08-31T10:41:04.450777300Z"
    }
   }
  }
 ],
 "metadata": {
  "kernelspec": {
   "display_name": "Python 3",
   "language": "python",
   "name": "python3"
  },
  "language_info": {
   "codemirror_mode": {
    "name": "ipython",
    "version": 2
   },
   "file_extension": ".py",
   "mimetype": "text/x-python",
   "name": "python",
   "nbconvert_exporter": "python",
   "pygments_lexer": "ipython2",
   "version": "2.7.6"
  }
 },
 "nbformat": 4,
 "nbformat_minor": 0
}
